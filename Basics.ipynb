{
 "metadata": {
  "name": "",
  "signature": "sha256:2f84c30ae28669644ef6701403d6f6273cfba07ec75ad8428cced5741c686cbd"
 },
 "nbformat": 3,
 "nbformat_minor": 0,
 "worksheets": [
  {
   "cells": [
    {
     "cell_type": "code",
     "collapsed": false,
     "input": [
      "import pandas as pd\n",
      "import numpy as np\n",
      "import scipy as sp\n",
      "import matplotlib.pyplot as plt\n",
      "import matplotlib\n",
      "%matplotlib inline\n",
      "font = {'size'   : 22}\n",
      "matplotlib.rc('font', **font)\n",
      "import os\n",
      "os.chdir(\"/Volumes/Untitled\")\n",
      "input_dir = \"raw\"\n",
      "output_dir = \"results\""
     ],
     "language": "python",
     "metadata": {},
     "outputs": [],
     "prompt_number": 2
    },
    {
     "cell_type": "code",
     "collapsed": false,
     "input": [],
     "language": "python",
     "metadata": {},
     "outputs": []
    }
   ],
   "metadata": {}
  }
 ]
}